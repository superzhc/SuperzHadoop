{
 "metadata": {
  "language_info": {
   "codemirror_mode": {
    "name": "ipython",
    "version": 3
   },
   "file_extension": ".py",
   "mimetype": "text/x-python",
   "name": "python",
   "nbconvert_exporter": "python",
   "pygments_lexer": "ipython3",
   "version": "3.9.2"
  },
  "orig_nbformat": 2,
  "kernelspec": {
   "name": "python392jvsc74a57bd01d9e891388f5949d3dfe31a3c02522344be249b300cf17367d034ca7a5308a93",
   "display_name": "Python 3.9.2 64-bit"
  }
 },
 "nbformat": 4,
 "nbformat_minor": 2,
 "cells": [
  {
   "cell_type": "code",
   "execution_count": 1,
   "metadata": {},
   "outputs": [],
   "source": [
    "import numpy as np"
   ]
  },
  {
   "cell_type": "code",
   "execution_count": 2,
   "metadata": {},
   "outputs": [
    {
     "output_type": "stream",
     "name": "stdout",
     "text": [
      "[1 4 2 5 3]\n[3.14 4.   2.   3.  ]\n"
     ]
    }
   ],
   "source": [
    "\"\"\"\n",
    "通过列表创建\n",
    "注意：\n",
    "1. NumPy 要求数组必须包含同一类型的数据。如果类型不匹配，NumPy 将会向上转换。\n",
    "\"\"\"\n",
    "a = np.array([1,4,2,5,3])\n",
    "print(a)\n",
    "b = np.array([3.14,4,2,3])\n",
    "print(b)"
   ]
  },
  {
   "cell_type": "code",
   "execution_count": 4,
   "metadata": {},
   "outputs": [
    {
     "output_type": "execute_result",
     "data": {
      "text/plain": [
       "array([1., 2., 3., 4.], dtype=float32)"
      ]
     },
     "metadata": {},
     "execution_count": 4
    }
   ],
   "source": [
    "\"\"\"\n",
    "明确设置数组的数据类型，可以用 dtype 关键字\n",
    "\"\"\"\n",
    "np.array([1,2,3,4],dtype=\"float32\")"
   ]
  },
  {
   "cell_type": "code",
   "execution_count": 5,
   "metadata": {},
   "outputs": [
    {
     "output_type": "execute_result",
     "data": {
      "text/plain": [
       "array([[2, 3, 4],\n",
       "       [4, 5, 6],\n",
       "       [6, 7, 8]])"
      ]
     },
     "metadata": {},
     "execution_count": 5
    }
   ],
   "source": [
    "\"\"\"\n",
    "创建多维数组\n",
    "\"\"\"\n",
    "np.array([range(i,i+3) for i in [2,4,6]])"
   ]
  },
  {
   "source": [
    "## NumPy 内置相关函数创建数组"
   ],
   "cell_type": "markdown",
   "metadata": {}
  },
  {
   "cell_type": "code",
   "execution_count": 6,
   "metadata": {},
   "outputs": [
    {
     "output_type": "execute_result",
     "data": {
      "text/plain": [
       "array([0, 0, 0, 0, 0, 0, 0, 0, 0, 0])"
      ]
     },
     "metadata": {},
     "execution_count": 6
    }
   ],
   "source": [
    "# 创建一个长度为 10 的数据，数组的值都是 0\n",
    "np.zeros(10,dtype=\"int\")"
   ]
  },
  {
   "cell_type": "code",
   "execution_count": 7,
   "metadata": {},
   "outputs": [
    {
     "output_type": "execute_result",
     "data": {
      "text/plain": [
       "array([[1., 1., 1., 1., 1.],\n",
       "       [1., 1., 1., 1., 1.],\n",
       "       [1., 1., 1., 1., 1.]], dtype=float32)"
      ]
     },
     "metadata": {},
     "execution_count": 7
    }
   ],
   "source": [
    "# 创建一个 3 * 5 的浮点型数组，数组的值都是 1\n",
    "np.ones((3,5),dtype=\"float32\")"
   ]
  },
  {
   "cell_type": "code",
   "execution_count": 8,
   "metadata": {},
   "outputs": [
    {
     "output_type": "execute_result",
     "data": {
      "text/plain": [
       "array([[3.14, 3.14, 3.14, 3.14, 3.14],\n",
       "       [3.14, 3.14, 3.14, 3.14, 3.14],\n",
       "       [3.14, 3.14, 3.14, 3.14, 3.14]])"
      ]
     },
     "metadata": {},
     "execution_count": 8
    }
   ],
   "source": [
    "# 创建一个 3 * 5 的浮点型数组，数组的值都是 3.14\n",
    "np.full((3,5),3.14)"
   ]
  },
  {
   "cell_type": "code",
   "execution_count": 9,
   "metadata": {},
   "outputs": [
    {
     "output_type": "execute_result",
     "data": {
      "text/plain": [
       "array([ 0,  2,  4,  6,  8, 10, 12, 14, 16, 18])"
      ]
     },
     "metadata": {},
     "execution_count": 9
    }
   ],
   "source": [
    "# 从 0 开始，到 20 结束，步长为 2，它和内置的 range() 函数类似\n",
    "np.arange(0,20,2)"
   ]
  },
  {
   "cell_type": "code",
   "execution_count": 10,
   "metadata": {},
   "outputs": [
    {
     "output_type": "execute_result",
     "data": {
      "text/plain": [
       "array([0.  , 0.25, 0.5 , 0.75, 1.  ])"
      ]
     },
     "metadata": {},
     "execution_count": 10
    }
   ],
   "source": [
    "# 创建一个 5 个元素的数组，这 5 个数均匀地分配到 0~1\n",
    "np.linspace(0,1,5)"
   ]
  },
  {
   "cell_type": "code",
   "execution_count": 11,
   "metadata": {},
   "outputs": [
    {
     "output_type": "execute_result",
     "data": {
      "text/plain": [
       "array([[0.76680249, 0.61729914, 0.96942101],\n",
       "       [0.48654426, 0.52861012, 0.46447843],\n",
       "       [0.41829821, 0.40628836, 0.52878727]])"
      ]
     },
     "metadata": {},
     "execution_count": 11
    }
   ],
   "source": [
    "# 创建一个 3 * 3 的、在 0~1 均匀分布的随机数组成的数组\n",
    "np.random.random((3,3))"
   ]
  },
  {
   "cell_type": "code",
   "execution_count": 12,
   "metadata": {},
   "outputs": [
    {
     "output_type": "execute_result",
     "data": {
      "text/plain": [
       "array([[ 1.09331059,  1.91709619, -0.24784801],\n",
       "       [ 1.11657806,  0.50811977,  0.39497817],\n",
       "       [ 0.06354374,  0.6442754 , -0.15340177]])"
      ]
     },
     "metadata": {},
     "execution_count": 12
    }
   ],
   "source": [
    "# 创建一个 3 * 3 的、均值为 0、方差为 1 的正态分布的随机数数组\n",
    "np.random.normal(0,1,(3,3))"
   ]
  },
  {
   "cell_type": "code",
   "execution_count": 13,
   "metadata": {},
   "outputs": [
    {
     "output_type": "execute_result",
     "data": {
      "text/plain": [
       "array([[3, 3, 7],\n",
       "       [4, 2, 3],\n",
       "       [6, 5, 1]])"
      ]
     },
     "metadata": {},
     "execution_count": 13
    }
   ],
   "source": [
    "# 创建一个 3 * 3 的、[0, 10)区间的随机整型数组\n",
    "np.random.randint(0,10,(3,3))"
   ]
  },
  {
   "cell_type": "code",
   "execution_count": 14,
   "metadata": {},
   "outputs": [
    {
     "output_type": "execute_result",
     "data": {
      "text/plain": [
       "array([[1., 0., 0.],\n",
       "       [0., 1., 0.],\n",
       "       [0., 0., 1.]])"
      ]
     },
     "metadata": {},
     "execution_count": 14
    }
   ],
   "source": [
    "# 创建一个 3 * 3 的单位矩阵\n",
    "np.eye(3)"
   ]
  },
  {
   "source": [
    "## NumPy 数组的基础"
   ],
   "cell_type": "markdown",
   "metadata": {}
  },
  {
   "cell_type": "code",
   "execution_count": 15,
   "metadata": {},
   "outputs": [
    {
     "output_type": "stream",
     "name": "stdout",
     "text": [
      "x3 ndim: 3\nx3 shape: (3, 4, 5)\nx3 size: 60\n"
     ]
    }
   ],
   "source": [
    "\"\"\"\n",
    "NumPy 数组的属性\n",
    "    每个数组都有 ndim（数组的维度）、shape（数组每个维度的大小）和 size（数组的总大小）属性\n",
    "\"\"\"\n",
    "# 设置 NumPy 的随机数生成器的一组种子值，以确保每次程序执行时都可以生成同样的随机数组\n",
    "np.random.seed(0)\n",
    "\n",
    "x1=np.random.randint(10,size=6)       # 一维数组 \n",
    "x2=np.random.randint(10,size=(3,4))   # 二维数组\n",
    "x3=np.random.randint(10,size=(3,4,5)) # 三维数组\n",
    "\n",
    "print(\"x3 ndim:\",x3.ndim)\n",
    "print(\"x3 shape:\",x3.shape)\n",
    "print(\"x3 size:\",x3.size)"
   ]
  },
  {
   "cell_type": "code",
   "execution_count": 16,
   "metadata": {},
   "outputs": [
    {
     "output_type": "stream",
     "name": "stdout",
     "text": [
      "[5 0 3 3 7 9]\n5\n7\n9\n7\n[[3 5 2 4]\n [7 6 8 8]\n [1 6 7 7]]\n3\n1\n7\n"
     ]
    }
   ],
   "source": [
    "\"\"\"\n",
    "获取单个元素\n",
    "\"\"\"\n",
    "# 一维数组操作\n",
    "print(x1)\n",
    "print(x1[0])\n",
    "print(x1[4])\n",
    "print(x1[-1])\n",
    "print(x1[-2])\n",
    "\n",
    "# 二维数组操作\n",
    "print(x2)\n",
    "print(x2[0,0])\n",
    "print(x2[2,0])\n",
    "print(x2[2,-1])"
   ]
  },
  {
   "cell_type": "code",
   "execution_count": 18,
   "metadata": {},
   "outputs": [
    {
     "output_type": "stream",
     "name": "stdout",
     "text": [
      "[0 1 2 3 4 5 6 7 8 9]\n[0 1 2 3 4]\n[5 6 7 8 9]\n[4 5 6]\n[0 2 4 6 8]\n[1 3 5 7 9]\n[9 8 7 6 5 4 3 2 1 0]\n[5 3 1]\n"
     ]
    }
   ],
   "source": [
    "\"\"\"\n",
    "数组切片：获取子数组\n",
    "\"\"\"\n",
    "x=np.arange(10)\n",
    "print(x)\n",
    "# 获取前五个元素\n",
    "print(x[:5])\n",
    "# 获取索引五之后的元素\n",
    "print(x[5:])\n",
    "# 中间的子数组\n",
    "print(x[4:7])\n",
    "# 每隔一个元素的数组\n",
    "print(x[::2])\n",
    "# 每隔一个元素的数组，从索引 1 开始\n",
    "print(x[1::2])\n",
    "# 所有元素，逆序的\n",
    "print(x[::-1])\n",
    "# 从索引五开始每隔一个元素逆序\n",
    "print(x[5::-2])"
   ]
  },
  {
   "cell_type": "code",
   "execution_count": 21,
   "metadata": {},
   "outputs": [
    {
     "output_type": "stream",
     "name": "stdout",
     "text": [
      "x     = [0 1 2 3]\nx + 5 = [5 6 7 8]\nx - 5 = [-5 -4 -3 -2]\nx * 2 = [0 2 4 6]\nx / 2 = [0.  0.5 1.  1.5]\nx // 2 = [0 0 1 1]\n-x    = [ 0 -1 -2 -3]\nx ** 2 = [0 1 4 9]\nx % 2 = [0 1 0 1]\n"
     ]
    }
   ],
   "source": [
    "\"\"\"\n",
    "数组运算\n",
    "\"\"\"\n",
    "x = np.arange(4)\n",
    "print(\"x     =\",x)\n",
    "print(\"x + 5 =\",x+5)\n",
    "print(\"x - 5 =\",x-5)\n",
    "print(\"x * 2 =\",x*2)\n",
    "print(\"x / 2 =\",x/2)\n",
    "print(\"x // 2 =\",x//2)\n",
    "\n",
    "\"\"\"\n",
    "还支持逻辑非，指数运算和模运算\n",
    "\"\"\"\n",
    "print(\"-x    =\",-x)\n",
    "print(\"x ** 2 =\",x**2)\n",
    "print(\"x % 2 =\",x%2)"
   ]
  },
  {
   "cell_type": "code",
   "execution_count": null,
   "metadata": {},
   "outputs": [],
   "source": []
  }
 ]
}