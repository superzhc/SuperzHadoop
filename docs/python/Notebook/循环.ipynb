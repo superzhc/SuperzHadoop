{
 "metadata": {
  "language_info": {
   "codemirror_mode": {
    "name": "ipython",
    "version": 3
   },
   "file_extension": ".py",
   "mimetype": "text/x-python",
   "name": "python",
   "nbconvert_exporter": "python",
   "pygments_lexer": "ipython3",
   "version": "3.9.2"
  },
  "orig_nbformat": 2,
  "kernelspec": {
   "name": "python392jvsc74a57bd01d9e891388f5949d3dfe31a3c02522344be249b300cf17367d034ca7a5308a93",
   "display_name": "Python 3.9.2 64-bit"
  }
 },
 "nbformat": 4,
 "nbformat_minor": 2,
 "cells": [
  {
   "source": [
    "# 循环"
   ],
   "cell_type": "markdown",
   "metadata": {}
  },
  {
   "source": [
    "Python 中的循环语句有 for 和 while。"
   ],
   "cell_type": "markdown",
   "metadata": {}
  },
  {
   "source": [
    "## while 循环\n",
    "\n",
    "Python 中 while 语句的一般形式如下：\n",
    "\n",
    "```Python\n",
    "while 判断条件(condition):\n",
    "    执行语句(statements)\n",
    "    //....\n",
    "```"
   ],
   "cell_type": "markdown",
   "metadata": {}
  },
  {
   "cell_type": "code",
   "execution_count": 1,
   "metadata": {},
   "outputs": [
    {
     "output_type": "stream",
     "name": "stdout",
     "text": [
      "1 到 100 之和为：5050\n"
     ]
    }
   ],
   "source": [
    "n=100\n",
    "sum=0\n",
    "counter=1\n",
    "while counter<=n:\n",
    "    sum=sum+counter\n",
    "    counter+=1\n",
    "print(\"1 到 %d 之和为：%d\" %(n,sum))"
   ]
  },
  {
   "source": [
    "**while 循环使用 else 语句**\n",
    "\n",
    "如果 while 循环后面的条件语句为 false 时，则执行 else 的语句块。语法格式如下：\n",
    "\n",
    "```python\n",
    "while <expr>:\n",
    "    <statement(s)>\n",
    "else:\n",
    "    <additional_statement(s)>\n",
    "```\n",
    "\n",
    "`expr` 条件语句为 true 则执行 statements 语句块，如果为 false，则执行 additional_statements"
   ],
   "cell_type": "markdown",
   "metadata": {}
  },
  {
   "cell_type": "code",
   "execution_count": 2,
   "metadata": {},
   "outputs": [
    {
     "output_type": "stream",
     "name": "stdout",
     "text": [
      "0 小于 5\n1 小于 5\n2 小于 5\n3 小于 5\n4 小于 5\n5 大于或等于 5\n"
     ]
    }
   ],
   "source": [
    "count=0\n",
    "while count<5:\n",
    "    print(count,\"小于 5\")\n",
    "    count+=1\n",
    "else:\n",
    "    print(count,\"大于或等于 5\")"
   ]
  },
  {
   "source": [
    "## for 语句\n",
    "\n",
    "Python for 循环可以遍历任何可迭代对象，如一个列表或者一个字符串\n",
    "\n",
    "for 循环的一般格式如下：\n",
    "\n",
    "```Python\n",
    "for <variable> in <sequence>:\n",
    "    <statement>\n",
    "else:\n",
    "    <statement>\n",
    "```"
   ],
   "cell_type": "markdown",
   "metadata": {}
  },
  {
   "cell_type": "code",
   "execution_count": 3,
   "metadata": {},
   "outputs": [
    {
     "output_type": "stream",
     "name": "stdout",
     "text": [
      "C\nC++\nPerl\nPython\n"
     ]
    }
   ],
   "source": [
    "languages = [\"C\", \"C++\", \"Perl\", \"Python\"]\n",
    "for x in languages:\n",
    "    print(x)"
   ]
  },
  {
   "source": [
    "for 中可以使用 break 语句来跳出循环体，使用 continue 跳出本次循环，继续执行下次循环"
   ],
   "cell_type": "markdown",
   "metadata": {}
  }
 ]
}