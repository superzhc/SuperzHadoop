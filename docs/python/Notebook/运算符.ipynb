{
 "metadata": {
  "language_info": {
   "codemirror_mode": {
    "name": "ipython",
    "version": 3
   },
   "file_extension": ".py",
   "mimetype": "text/x-python",
   "name": "python",
   "nbconvert_exporter": "python",
   "pygments_lexer": "ipython3",
   "version": "3.9.2"
  },
  "orig_nbformat": 2,
  "kernelspec": {
   "name": "python392jvsc74a57bd01d9e891388f5949d3dfe31a3c02522344be249b300cf17367d034ca7a5308a93",
   "display_name": "Python 3.9.2 64-bit"
  }
 },
 "nbformat": 4,
 "nbformat_minor": 2,
 "cells": [
  {
   "source": [
    "# 运算符\n",
    "\n",
    "Python 中的运算符主要分为算术运算符、比较（关系）运算符、赋值运算符、逻辑运算符、位运算符、成员运算符和身份运算符共 7 大类，运算符之间也是由优先级的。"
   ],
   "cell_type": "markdown",
   "metadata": {}
  },
  {
   "source": [
    "## 算数运算符\n",
    "\n",
    "Python 的算数运算符共有 7 个。\n",
    "\n",
    "|运算符|\t描述|\n",
    "|-----|----------------------------------------|\n",
    "|`+`|\t两个数相加，或是字符串连接|\n",
    "|`-`|\t两个数相减|\n",
    "|`*`|\t两个数相乘，或是返回一个重复若干次的字符串|\n",
    "|`/`|\t两个数相除，结果为浮点数（小数）|\n",
    "|`//`|\t两个数相除，结果为向下取整的整数|\n",
    "|`%`|\t取模，返回两个数相除的余数|\n",
    "|`**`|\t幂运算，返回乘方结果|"
   ],
   "cell_type": "markdown",
   "metadata": {}
  },
  {
   "cell_type": "code",
   "execution_count": 2,
   "metadata": {},
   "outputs": [
    {
     "output_type": "stream",
     "name": "stdout",
     "text": [
      "9\n8\n"
     ]
    }
   ],
   "source": [
    "print(5+4)\n",
    "print(2**3)"
   ]
  },
  {
   "source": [
    "## 比较（关系）运算符\n",
    "\n",
    "Python 的比较（关系）运算符共 6 个。\n",
    "\n",
    "|运算符|\t描述|\n",
    "|----|-----------|\n",
    "|`==`|\t比较两个对象是否相等|\n",
    "|`!=`|\t比较两个对象是否不相等|\n",
    "|`>`|\t大小比较，例如 `x>y` 将比较 x 和 y 的大小，如 x 比 y 大，返回 True，否则返回 False|\n",
    "|`<`|\t大小比较，例如 `x<y` 将比较 x 和 y 的大小，如 x 比 y 小，返回T rue，否则返回 False|\n",
    "|`>=`|\t大小比较，例如 `x>=y` 将比较 x 和 y 的大小，如 x 大于等于 y，返回 True，否则返回 False|\n",
    "|`<=`|\t大小比较，例如 `x<=y` 将比较 x 和 y 的大小，如 x 小于等于 y，返回 True，否则返回 False|"
   ],
   "cell_type": "markdown",
   "metadata": {}
  },
  {
   "source": [
    "## 赋值运算符\n",
    "\n",
    "Python 的赋值运算符共 8 个。\n",
    "\n",
    "|运算符|\t描述|\n",
    "|------|----------------------------------|\n",
    "|`=`|\t常规赋值运算符，将运算结果赋值给变量|\n",
    "|`+=`|\t加法赋值运算符，例如 `a+=b` 等效于 `a=a+b`|\n",
    "|`-=`|\t减法赋值运算符，例如 `a-=b` 等效于 `a=a-b`|\n",
    "|`*=`|\t乘法赋值运算符，例如 `a*=b` 等效于 `a=a*b`|\n",
    "|`/=`|\t除法赋值运算符，例如 `a/=b` 等效于 `a=a/b`|\n",
    "|`%=`|\t取模赋值运算符，例如 `a%=b` 等效于 `a=a%b`|\n",
    "|`**=`|\t幂运算赋值运算符，例如 `a**=b` 等效于 `a=a**b`|\n",
    "|`//=`|\t取整除赋值运算符，例如 `a//=b` 等效于 `a=a//b`|"
   ],
   "cell_type": "markdown",
   "metadata": {}
  },
  {
   "source": [
    "## 逻辑运算符\n",
    "\n",
    "Python 的逻辑运算符共 3 个。\n",
    "\n",
    "|运算符|\t描述|\n",
    "|------|---------------------------------------|\n",
    "|`and`|\t布尔“与”运算符，返回两个变量“与”运算的结果|\n",
    "|`or`|\t布尔“或”运算符，返回两个变量“或”运算的结果|\n",
    "|`not`|\t布尔“非”运算符，返回对变量“非”运算的结果|"
   ],
   "cell_type": "markdown",
   "metadata": {}
  },
  {
   "cell_type": "code",
   "execution_count": 3,
   "metadata": {},
   "outputs": [
    {
     "output_type": "stream",
     "name": "stdout",
     "text": [
      "False\nTrue\nFalse\n"
     ]
    }
   ],
   "source": [
    "a = True\n",
    "b = False\n",
    "print(a and b)\n",
    "print(a or b)\n",
    "print(not a)"
   ]
  },
  {
   "source": [
    "## 位运算符\n",
    "\n",
    "Python 的位运算符共 6 个。\n",
    "\n",
    "|运算符|\t描述|\n",
    "|-------|---------------------------------------------------------------------|\n",
    "|`&`|\t按位“与”运算符：参与运算的两个值，如果两个相应位都为 1，则结果为 1，否则为 0|\n",
    "|`|`|\t按位“或”运算符：只要对应的两个二进制位有一个为 1 时，结果就为 1|\n",
    "|`^`|\t按位“异或”运算符：当两对应的二进制位相异时，结果为 1|\n",
    "|`~`|\t按位“取反”运算符：对数据的每个二进制位取反，即把 1 变为 0，把 0 变为 1|\n",
    "|`<<`|\t“左移动”运算符：运算数的各二进制位全部左移若干位，由“<<”右边的数指定移动的位数，高位丢弃， 低位补 0|\n",
    "|`>>`|\t“右移动”运算符：运算数的各二进制位全部右移若干位，由“>>”右边的数指定移动的位数|"
   ],
   "cell_type": "markdown",
   "metadata": {}
  },
  {
   "source": [
    "## 成员运算符\n",
    "\n",
    "Python 的成员运算符共 2 个。\n",
    "\n",
    "|运算符\t|描述|\n",
    "|-------|----------------|\n",
    "|`in`|\t当在指定的序列中找到值时返回 True,否则返回 False|\n",
    "|`not in`|\t当在指定的序列中没有找到值时返回 True,否则返回 False|"
   ],
   "cell_type": "markdown",
   "metadata": {}
  },
  {
   "cell_type": "code",
   "execution_count": 4,
   "metadata": {},
   "outputs": [
    {
     "output_type": "stream",
     "name": "stdout",
     "text": [
      "True\nFalse\n"
     ]
    }
   ],
   "source": [
    "x = 1\n",
    "y = 10\n",
    "arr = [1,2,3,4,5]\n",
    "print(x in arr)\n",
    "print(y in arr)"
   ]
  },
  {
   "source": [
    "## 身份运算符\n",
    "\n",
    "Python 的身份运算符共 2 个。\n",
    "\n",
    "|运算符|\t描述|\n",
    "|--------|--------------------------------------------------------------------------------|\n",
    "|`is`|\t判断两个标识符是否引用自同一个对象，若引用的是同一个对象则返回 True，否则返回 False|\n",
    "|`is not`|\t判断两个标识符是不是引用自不同对象，若引用的不是同一个对象则返回 True，否则返回 False|"
   ],
   "cell_type": "markdown",
   "metadata": {}
  }
 ]
}