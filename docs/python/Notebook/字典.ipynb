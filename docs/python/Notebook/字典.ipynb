{
 "metadata": {
  "language_info": {
   "codemirror_mode": {
    "name": "ipython",
    "version": 3
   },
   "file_extension": ".py",
   "mimetype": "text/x-python",
   "name": "python",
   "nbconvert_exporter": "python",
   "pygments_lexer": "ipython3",
   "version": "3.9.2"
  },
  "orig_nbformat": 2,
  "kernelspec": {
   "name": "python392jvsc74a57bd01d9e891388f5949d3dfe31a3c02522344be249b300cf17367d034ca7a5308a93",
   "display_name": "Python 3.9.2 64-bit"
  }
 },
 "nbformat": 4,
 "nbformat_minor": 2,
 "cells": [
  {
   "source": [
    "# 字典（Dictionary）"
   ],
   "cell_type": "markdown",
   "metadata": {}
  },
  {
   "source": [
    "字典的每个键值对用冒号`:`分割，每个键值对之间用逗号`,`分割，整个字典包括在花括号`{}`中。"
   ],
   "cell_type": "markdown",
   "metadata": {}
  },
  {
   "cell_type": "code",
   "execution_count": 11,
   "metadata": {},
   "outputs": [
    {
     "output_type": "execute_result",
     "data": {
      "text/plain": [
       "{'a': 1, 'b': 3, 'name': 'Zara', 'age': 7, 'class': 'First'}"
      ]
     },
     "metadata": {},
     "execution_count": 11
    }
   ],
   "source": [
    "dict={\"a\":1,\"b\":2,\"b\":3,\"name\":\"Zara\",\"age\":7,\"class\":\"First\"}\n",
    "dict"
   ]
  },
  {
   "source": [
    "字典的键是唯一的，键必须是不可变的，如字符串，数字或元组；但值可以取任何数据类型"
   ],
   "cell_type": "markdown",
   "metadata": {}
  },
  {
   "cell_type": "code",
   "execution_count": 6,
   "metadata": {},
   "outputs": [
    {
     "output_type": "stream",
     "name": "stdout",
     "text": [
      "Zara\n7\n"
     ]
    }
   ],
   "source": [
    "# 访问字典中的数据\n",
    "print(dict[\"name\"])\n",
    "print(dict[\"age\"])"
   ]
  },
  {
   "cell_type": "code",
   "execution_count": 9,
   "metadata": {},
   "outputs": [
    {
     "output_type": "execute_result",
     "data": {
      "text/plain": [
       "{'a': 1, 'b': 3, 'name': 'Zara', 'age': 8, 'class': 'First', 'school': 'xxx'}"
      ]
     },
     "metadata": {},
     "execution_count": 9
    }
   ],
   "source": [
    "# 修改字典\n",
    "dict[\"age\"]=8        # 修改\n",
    "dict[\"school\"]=\"xxx\" # 新增\n",
    "dict"
   ]
  },
  {
   "cell_type": "code",
   "execution_count": 12,
   "metadata": {},
   "outputs": [
    {
     "output_type": "stream",
     "name": "stdout",
     "text": [
      "{'a': 1, 'b': 3, 'name': 'Zara', 'class': 'First'}\n{}\n<class 'dict'>\n"
     ]
    }
   ],
   "source": [
    "# 删除字典元素\n",
    "del dict[\"age\"]\n",
    "print(dict)\n",
    "# 清空字典所有条目\n",
    "dict.clear()\n",
    "print(dict)\n",
    "# 删除字典\n",
    "del dict\n",
    "print(dict)"
   ]
  }
 ]
}