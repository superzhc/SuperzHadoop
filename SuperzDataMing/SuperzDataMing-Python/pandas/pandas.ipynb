{
 "cells": [
  {
   "cell_type": "markdown",
   "metadata": {
    "collapsed": true,
    "pycharm": {
     "name": "#%% md\n"
    }
   },
   "source": [
    "# Pandas"
   ]
  },
  {
   "cell_type": "code",
   "execution_count": 1,
   "outputs": [],
   "source": [
    "\"\"\"\n",
    "0. 安装 pandas\n",
    "pip install pandas\n",
    "1. 引入 pandas，一般会创建别名\n",
    "import pandas as pd\n",
    "\"\"\"\n",
    "import pandas as pd"
   ],
   "metadata": {
    "collapsed": false,
    "pycharm": {
     "name": "#%%\n"
    }
   }
  },
  {
   "cell_type": "code",
   "execution_count": 4,
   "outputs": [],
   "source": [
    "\"\"\"\n",
    "读取数据\n",
    "\"\"\"\n",
    "data=pd.read_csv(\"../../data/(sample)sam_tianchi_mum_baby_trade_history.csv\")\n",
    "# 通过设置相关参数来读取csv数据\n",
    "data2=pd.read_csv(\"../../data/(sample)sam_tianchi_mum_baby_trade_history.csv\"\n",
    "                  ,sep=\",\" # 设置分隔符，默认是英文逗号\n",
    "                  # ,encoding=\"utf8\" # 设置编码\n",
    "                  ,nrows=10000 # 读取前10000行数据\n",
    "                  ,skiprows=[2,5] # 移除的行数据，例如第2行，第5行\n",
    "                  )"
   ],
   "metadata": {
    "collapsed": false,
    "pycharm": {
     "name": "#%%\n"
    }
   }
  },
  {
   "cell_type": "code",
   "execution_count": null,
   "outputs": [],
   "source": [
    "\"\"\"\n",
    "写数据\n",
    "\"\"\"\n",
    "data.to_csv(\"../../pandas_demo.csv\"\n",
    "            ,index=None # 如果未添加该选项，第一列会添加一个序号列\n",
    "            )"
   ],
   "metadata": {
    "collapsed": false,
    "pycharm": {
     "name": "#%%\n"
    }
   }
  },
  {
   "cell_type": "code",
   "execution_count": 5,
   "outputs": [
    {
     "name": "stdout",
     "output_type": "stream",
     "text": [
      "(29971, 7)\n",
      "            user_id    auction_id        cat_id          cat1     buy_mount  \\\n",
      "count  2.997100e+04  2.997100e+04  2.997100e+04  2.997100e+04  29971.000000   \n",
      "mean   6.763877e+08  2.565509e+10  5.294928e+07  4.149907e+07      2.544126   \n",
      "std    6.331757e+08  1.145374e+10  2.056607e+07  3.131301e+07     63.986879   \n",
      "min    2.356000e+03  2.763449e+07  1.662000e+03  2.800000e+01      1.000000   \n",
      "25%    1.248442e+08  1.659057e+10  5.001055e+07  3.800000e+01      1.000000   \n",
      "50%    5.451674e+08  2.153193e+10  5.001245e+07  5.000817e+07      1.000000   \n",
      "75%    9.057227e+08  3.778793e+10  5.001603e+07  5.001482e+07      1.000000   \n",
      "max    2.431253e+09  4.368693e+10  1.226960e+08  1.226500e+08  10000.000000   \n",
      "\n",
      "                day  \n",
      "count  2.997100e+04  \n",
      "mean   2.013562e+07  \n",
      "std    7.605317e+03  \n",
      "min    2.012070e+07  \n",
      "25%    2.013062e+07  \n",
      "50%    2.014031e+07  \n",
      "75%    2.014091e+07  \n",
      "max    2.015020e+07  \n"
     ]
    }
   ],
   "source": [
    "\"\"\"\n",
    "数据属性\n",
    "1. 数据的行数和列数\n",
    "2. 数据的基本统计信息\n",
    "\"\"\"\n",
    "print(data.shape)\n",
    "print(data.describe())"
   ],
   "metadata": {
    "collapsed": false,
    "pycharm": {
     "name": "#%%\n"
    }
   }
  },
  {
   "cell_type": "code",
   "execution_count": 7,
   "outputs": [
    {
     "name": "stdout",
     "output_type": "stream",
     "text": [
      "     user_id   auction_id    cat_id      cat1  \\\n",
      "0  786295544  41098319944  50014866  50022520   \n",
      "1  532110457  17916191097  50011993        28   \n",
      "2  249013725  21896936223  50012461  50014815   \n",
      "\n",
      "                                            property  buy_mount       day  \n",
      "0  21458:86755362;13023209:3593274;10984217:21985...          2  20140919  \n",
      "1  21458:11399317;1628862:3251296;21475:137325;16...          1  20131011  \n",
      "2  21458:30992;1628665:92012;1628665:3233938;1628...          1  20131011  \n",
      "--------------------------------------------------\n",
      "user_id                       82830661\n",
      "auction_id                 19948600790\n",
      "cat_id                        50013874\n",
      "cat1                                28\n",
      "property      21458:11580;21475:137325\n",
      "buy_mount                            1\n",
      "day                           20121101\n",
      "Name: 8, dtype: object\n",
      "--------------------------------------------------\n",
      "82830661\n",
      "--------------------------------------------------\n",
      "     user_id   auction_id     cat_id      cat1  \\\n",
      "1  532110457  17916191097   50011993        28   \n",
      "2  249013725  21896936223   50012461  50014815   \n",
      "3  917056007  12515996043   50018831  50014815   \n",
      "4  444069173  20487688075   50013636  50008168   \n",
      "5  152298847  41840167463  121394024  50008168   \n",
      "6  513441334  19909384116   50010557  50008168   \n",
      "7  297411659  13540124907   50010542  50008168   \n",
      "8   82830661  19948600790   50013874        28   \n",
      "9  475046636  10368360710     203527        28   \n",
      "\n",
      "                                            property  buy_mount       day  \n",
      "1  21458:11399317;1628862:3251296;21475:137325;16...          1  20131011  \n",
      "2  21458:30992;1628665:92012;1628665:3233938;1628...          1  20131011  \n",
      "3  21458:15841995;21956:3494076;27000458:59723383...          2  20141023  \n",
      "4  21458:30992;13658074:3323064;1628665:3233941;1...          1  20141103  \n",
      "5  21458:3408353;13023209:727117752;22009:2741771...          1  20141103  \n",
      "6  25935:21991;1628665:29784;22019:34731;22019:20...          1  20121212  \n",
      "7  21458:60020529;25935:31381;1633959:27247291;16...          1  20121212  \n",
      "8                           21458:11580;21475:137325          1  20121101  \n",
      "9  22724:40168;22729:40278;21458:21817;2770200:24...          1  20121101  \n"
     ]
    }
   ],
   "source": [
    "\"\"\"\n",
    "查看数据\n",
    "\"\"\"\n",
    "# 打印数据的前n行\n",
    "print(data.head(n=3))\n",
    "print(\"--------------------------------------------------\")\n",
    "# 打印数据的指定行\n",
    "print(data.loc[8])\n",
    "print(\"--------------------------------------------------\")\n",
    "# 打印数据的指定行的指定列\n",
    "print(data.loc[8,\"user_id\"])\n",
    "print(\"--------------------------------------------------\")\n",
    "# 打印数据的指定行区间\n",
    "print(data.loc[range(1,10)])"
   ],
   "metadata": {
    "collapsed": false,
    "pycharm": {
     "name": "#%%\n"
    }
   }
  },
  {
   "cell_type": "code",
   "execution_count": null,
   "outputs": [],
   "source": [
    "\"\"\"\n",
    "更新数据\n",
    "\"\"\"\n",
    "# 更新指定行指定列的数据\n",
    "data.loc[8,\"buy_mount\"]=2\n",
    "# 更新多行指定列的数据\n",
    "data.loc[data[\"day\"]==\"20140919\",\"buy_mount\"]=2"
   ],
   "metadata": {
    "collapsed": false,
    "pycharm": {
     "name": "#%%\n"
    }
   }
  },
  {
   "cell_type": "code",
   "execution_count": 9,
   "outputs": [
    {
     "name": "stdout",
     "output_type": "stream",
     "text": [
      "25452\n"
     ]
    }
   ],
   "source": [
    "\"\"\"\n",
    "逻辑计算\n",
    "\"\"\"\n",
    "print(data[data[\"buy_mount\"]>=2].size)"
   ],
   "metadata": {
    "collapsed": false,
    "pycharm": {
     "name": "#%%\n"
    }
   }
  }
 ],
 "metadata": {
  "kernelspec": {
   "display_name": "Python 3",
   "language": "python",
   "name": "python3"
  },
  "language_info": {
   "codemirror_mode": {
    "name": "ipython",
    "version": 2
   },
   "file_extension": ".py",
   "mimetype": "text/x-python",
   "name": "python",
   "nbconvert_exporter": "python",
   "pygments_lexer": "ipython2",
   "version": "2.7.6"
  }
 },
 "nbformat": 4,
 "nbformat_minor": 0
}