{
 "cells": [
  {
   "cell_type": "markdown",
   "source": [
    "k-近邻算法"
   ],
   "metadata": {
    "collapsed": false,
    "pycharm": {
     "name": "#%% md\n"
    }
   }
  },
  {
   "cell_type": "code",
   "execution_count": 1,
   "metadata": {
    "collapsed": true,
    "pycharm": {
     "name": "#%%\n"
    }
   },
   "outputs": [],
   "source": [
    "import numpy as np\n",
    "import operator"
   ]
  },
  {
   "cell_type": "code",
   "execution_count": 2,
   "outputs": [
    {
     "data": {
      "text/plain": "(array([[1. , 1.1],\n        [1. , 1. ],\n        [0. , 0. ],\n        [0. , 0.1]]),\n ['A', 'A', 'B', 'B'])"
     },
     "execution_count": 2,
     "metadata": {},
     "output_type": "execute_result"
    }
   ],
   "source": [
    "group=np.array([[1.0,1.1],[1.0,1.0],[0,0],[0,0.1]])\n",
    "labels=[\"A\",\"A\",\"B\",\"B\"]\n",
    "group,labels"
   ],
   "metadata": {
    "collapsed": false,
    "pycharm": {
     "name": "#%%\n"
    }
   }
  },
  {
   "cell_type": "code",
   "execution_count": 4,
   "outputs": [
    {
     "data": {
      "text/plain": "'B'"
     },
     "execution_count": 4,
     "metadata": {},
     "output_type": "execute_result"
    }
   ],
   "source": [
    "def classify0(inX,dataset,labels,k):\n",
    "    \"\"\"\n",
    "    k-近邻算法\n",
    "    :param inX: 用于分类的输入向量\n",
    "    :param dataset: 输入的训练样本集\n",
    "    :param labels: 标签向量\n",
    "    :param k: 用于选择最近邻居的数目\n",
    "    :return:\n",
    "    \"\"\"\n",
    "    dataset_size=dataset.shape[0]\n",
    "    diff_mat=np.tile(inX,(dataset_size,1))-dataset\n",
    "    sq_diff_mat=diff_mat**2\n",
    "    sq_distances=sq_diff_mat.sum(axis=1)\n",
    "    distances=sq_distances**0.5\n",
    "    sorted_dist_indicies=distances.argsort()\n",
    "    class_count={}\n",
    "    for i in range(k):\n",
    "        vote_I_label=labels[sorted_dist_indicies[i]]\n",
    "        class_count[vote_I_label]=class_count.get(vote_I_label,0)+1\n",
    "    sorted_class_count=sorted(class_count.items(),key=operator.itemgetter(1),reverse=True)\n",
    "    return sorted_class_count[0][0]\n",
    "\n",
    "classify0([0,0],group,labels,3)"
   ],
   "metadata": {
    "collapsed": false,
    "pycharm": {
     "name": "#%%\n"
    }
   }
  }
 ],
 "metadata": {
  "kernelspec": {
   "display_name": "Python 3",
   "language": "python",
   "name": "python3"
  },
  "language_info": {
   "codemirror_mode": {
    "name": "ipython",
    "version": 2
   },
   "file_extension": ".py",
   "mimetype": "text/x-python",
   "name": "python",
   "nbconvert_exporter": "python",
   "pygments_lexer": "ipython2",
   "version": "2.7.6"
  }
 },
 "nbformat": 4,
 "nbformat_minor": 0
}