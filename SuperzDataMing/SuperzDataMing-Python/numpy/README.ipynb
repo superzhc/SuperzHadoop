{
 "cells": [
  {
   "cell_type": "markdown",
   "metadata": {
    "collapsed": true,
    "pycharm": {
     "name": "#%% md\n"
    }
   },
   "source": [
    "# NumPy\n",
    "\n",
    "NumPy 提供了种种基本的对象：\n",
    "\n",
    "- ndarray(N-dimensional array object)\n",
    "    存储单一数据类型的多维数组\n",
    "- ufunc(universal function object)\n",
    "    能够对数组进行处理的函数"
   ]
  },
  {
   "cell_type": "code",
   "execution_count": 2,
   "outputs": [],
   "source": [
    "\"\"\"\n",
    "函数库导入\n",
    "    推荐使用如下方式进行导入\n",
    "\"\"\"\n",
    "import numpy as np"
   ],
   "metadata": {
    "collapsed": false,
    "pycharm": {
     "name": "#%%\n"
    }
   }
  },
  {
   "cell_type": "code",
   "execution_count": 2,
   "outputs": [
    {
     "name": "stdout",
     "output_type": "stream",
     "text": [
      "[1 2 3 4]\n",
      "[[ 1  2  3  4]\n",
      " [ 5  6  7  8]\n",
      " [ 7  8  9 10]]\n",
      "[1 2 3 4 5 6 7 8 9]\n"
     ]
    }
   ],
   "source": [
    "\"\"\"\n",
    "创建数组\n",
    "\n",
    "1. 直接通过传入列表来进行创建，如果传递的是多层嵌套的列表将会创建多维数组\n",
    "2. 通过 numpy 自带的函数来创建函数\n",
    "\"\"\"\n",
    "# 通过传入列表直接进行创建\n",
    "a=np.array([1,2,3,4])\n",
    "print(a)\n",
    "b=np.array([[1,2,3,4],[5,6,7,8],[7,8,9,10]])\n",
    "print(b)\n",
    "# arange 函数类似于 python 的 range 函数，通过指定开始值、终值和步长来创建一维数组\n",
    "## 注意：数组不包含终值\n",
    "c=np.arange(1,10,1)\n",
    "print(c)\n",
    "# linspace 函数通过指定开始值、终值和元素个数来创建一维数组，可以通过 endpoint 关键字指定是否包括终值，缺省设置时包括终值的：\n",
    "d=np.linspace(0,10,100)\n",
    "# logspace 函数和 linspace 类似，不过它创建等比数列\n",
    "f=np.logspace(0,2,20)\n",
    "# random 函数生成随机 4*4 数组\n",
    "g=np.random.rand(4,4)\n",
    "# 使用 frombuffer,fromstring,fromfile 等函数可以从字节序列创建数组"
   ],
   "metadata": {
    "collapsed": false,
    "pycharm": {
     "name": "#%%\n"
    }
   }
  },
  {
   "cell_type": "code",
   "execution_count": 3,
   "outputs": [
    {
     "name": "stdout",
     "output_type": "stream",
     "text": [
      "(4,)\n",
      "(3, 4)\n",
      "int32\n"
     ]
    }
   ],
   "source": [
    "\"\"\"\n",
    "数组的属性\n",
    "\"\"\"\n",
    "# 获取数组的大小\n",
    "print(a.shape) # 该结果只有一个元素，因此它是一维数组\n",
    "print(b.shape)\n",
    "# 数组的元素类型\n",
    "print(a.dtype)"
   ],
   "metadata": {
    "collapsed": false,
    "pycharm": {
     "name": "#%%\n"
    }
   }
  },
  {
   "cell_type": "code",
   "execution_count": 4,
   "outputs": [
    {
     "name": "stdout",
     "output_type": "stream",
     "text": [
      "[[ 1  2  3]\n",
      " [ 4  5  6]\n",
      " [ 7  8  7]\n",
      " [ 8  9 10]]\n",
      "[[ 1  2  3  4  5  6]\n",
      " [ 7  8  7  8  9 10]]\n",
      "[[1 2]\n",
      " [3 4]]\n",
      "[1 2 3 4]\n"
     ]
    }
   ],
   "source": [
    "\"\"\"\n",
    "改变数组的形状\n",
    "\n",
    "1. 可以通过修改数组的 shape 属性，在保持元素个数不变的情况下，改变数组每个轴的长度\n",
    "2. 使用数组的 reshape 函数，可以创建一个改变了尺寸的新数组，原数组的 shape 保持不变\n",
    "\"\"\"\n",
    "# 方法一：\n",
    "# 将 b 数组的 shape 从 (3,4) 变为 (4,3)\n",
    "b.shape=4,3\n",
    "print(b)\n",
    "# 当某个轴的元素为 -1 时，将根据数组元素的个数自动计算此轴的长度，因此下例将数组 b 的 shape 改为了 (2,6)\n",
    "b.shape=2,-1\n",
    "print(b)\n",
    "# 方法二：\n",
    "# reshape 不会改变原数组的结构\n",
    "a2=a.reshape((2,2))\n",
    "print(a2)\n",
    "print(a)"
   ],
   "metadata": {
    "collapsed": false,
    "pycharm": {
     "name": "#%%\n"
    }
   }
  },
  {
   "cell_type": "code",
   "execution_count": 5,
   "outputs": [
    {
     "name": "stdout",
     "output_type": "stream",
     "text": [
      "6\n",
      "[4 5]\n",
      "[1 2 3 4 5]\n",
      "[1 2 3 4 5 6 7 8]\n",
      "[  1   2 100 101   5   6   7   8   9]\n",
      "[  2 101   6   8]\n",
      "[  9   8   7   6   5 101 100   2   1]\n",
      "[  6 101]\n"
     ]
    }
   ],
   "source": [
    "\"\"\"\n",
    "存取元素\n",
    "\"\"\"\n",
    "# 用整数下标可以获取数组中的某个元素\n",
    "print(c[5])\n",
    "# 使用范围作为下标获取数组的一个切片，包括起点，但不包括结束点\n",
    "print(c[3:5])\n",
    "# 省略开始下标，表示从 0 开始\n",
    "print(c[:5])\n",
    "# 下标可以使用负数，表示从数组后往前数\n",
    "print(c[:-1])\n",
    "# 下标还可以用来修改元素的值\n",
    "c[2:4]=100,101\n",
    "print(c)\n",
    "# 范围中的第三个参数表示步长，例如，步长为 2 表示隔一个元素取一个元素\n",
    "print(c[1:-1:2])\n",
    "# 省略范围的开始下标和结束下标，步长为 -1，整个数组倒排\n",
    "print(c[::-1])\n",
    "# 步长为负数时，开始下标必须大于结束下标\n",
    "print(c[5:1:-2])"
   ],
   "metadata": {
    "collapsed": false,
    "pycharm": {
     "name": "#%%\n"
    }
   }
  },
  {
   "cell_type": "code",
   "execution_count": 7,
   "outputs": [
    {
     "name": "stdout",
     "output_type": "stream",
     "text": [
      "[101 101   2   9]\n",
      "[101 101   7   9]\n",
      "[1 3]\n",
      "[1 3]\n",
      "[False  True False  True]\n",
      "[2 4]\n"
     ]
    }
   ],
   "source": [
    "\"\"\"\n",
    "除了使用下标范围存取元素之外，NumPy 还提供了两种存取元素的高级方法\n",
    "\n",
    "1. 使用整数序列\n",
    "    当使用整数序列对数组元素进行存取时，将使用整数序列中的每个元素作为下标，整数序列可以是列表或者数组。\n",
    "    注意：使用整数序列作为下标获得的数组不和原始数组共享数据空间\n",
    "2. 使用布尔数组\n",
    "    当使用布尔数组作为下标存取数组中的元素时，将收集数组中所有在布尔数组中对应下标为 True 的元素\n",
    "    使用布尔数组作为下标获得的数组不和原始数组共享数据空间\n",
    "    注意：只能使用布尔数组而不能使用布尔列表\n",
    "\"\"\"\n",
    "# 使用整数序列\n",
    "## 获取 c 中的下标为 3，3，1，8 的 4 个元素，组成一个新的数组\n",
    "print(c[[3,3,1,8]])\n",
    "## 下标也可以是负数\n",
    "print(c[np.array([3,3,-3,8])])\n",
    "# 使用布尔数组\n",
    "## 布尔数组中下标为 0，2 的元素为 True，因此获取数组中下标为 0，2 的元素\n",
    "print(a[np.array([True,False,True,False])])\n",
    "## 如果使用布尔列表，则把 True 当作 1，False 当为 0，按照整数序列方式获取数组中的元素\n",
    "print(a[[True,False,True,False]])\n",
    "## 布尔数组一般不是手动产生的，而是通过布尔运算的 ufunc 函数产生的\n",
    "print(a%2==0)\n",
    "print(a[a%2==0])"
   ],
   "metadata": {
    "collapsed": false,
    "pycharm": {
     "name": "#%%\n"
    }
   }
  },
  {
   "cell_type": "code",
   "execution_count": 3,
   "outputs": [
    {
     "name": "stdout",
     "output_type": "stream",
     "text": [
      "[[0.  0.1 0.2 0.3 0.4 0.5 0.6 0.7 0.8 0.9]]\n",
      "[[0.        ]\n",
      " [0.03508772]\n",
      " [0.07017544]\n",
      " [0.10526316]\n",
      " [0.14035088]\n",
      " [0.1754386 ]\n",
      " [0.21052632]\n",
      " [0.24561404]\n",
      " [0.28070175]\n",
      " [0.31578947]]\n",
      "[[1.]]\n"
     ]
    }
   ],
   "source": [
    "\"\"\"\n",
    "矩阵\n",
    "\"\"\"\n",
    "# 将数组转换成矩阵\n",
    "arr=np.arange(0,1,0.1)\n",
    "mat=np.mat(arr)\n",
    "print(mat)\n",
    "# 对矩阵求逆\n",
    "mat_i=mat.I\n",
    "print(mat_i)\n",
    "#矩阵和自身逆矩阵得到单位矩阵\n",
    "##注意：存在一些非对角线的元素是由于计算机处理误差造成的\n",
    "my_eye=mat*mat_i\n",
    "print(my_eye)"
   ],
   "metadata": {
    "collapsed": false,
    "pycharm": {
     "name": "#%%\n"
    }
   }
  }
 ],
 "metadata": {
  "kernelspec": {
   "display_name": "Python 3",
   "language": "python",
   "name": "python3"
  },
  "language_info": {
   "codemirror_mode": {
    "name": "ipython",
    "version": 2
   },
   "file_extension": ".py",
   "mimetype": "text/x-python",
   "name": "python",
   "nbconvert_exporter": "python",
   "pygments_lexer": "ipython2",
   "version": "2.7.6"
  }
 },
 "nbformat": 4,
 "nbformat_minor": 0
}