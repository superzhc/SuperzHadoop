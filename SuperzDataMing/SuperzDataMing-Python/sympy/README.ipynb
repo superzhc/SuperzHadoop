{
 "cells": [
  {
   "cell_type": "markdown",
   "metadata": {
    "collapsed": true,
    "pycharm": {
     "name": "#%% md\n"
    }
   },
   "source": [
    "# SymPy\n",
    "\n",
    "SymPy 是 Python 的数学符号计算库，用它可以进行数学公式的符号推导。"
   ]
  },
  {
   "cell_type": "code",
   "execution_count": 1,
   "outputs": [],
   "source": [
    "\"\"\"\n",
    "引入 sympy 库\n",
    "\"\"\"\n",
    "import sympy"
   ],
   "metadata": {
    "collapsed": false,
    "pycharm": {
     "name": "#%%\n"
    }
   }
  },
  {
   "cell_type": "code",
   "execution_count": null,
   "outputs": [],
   "source": [
    "\"\"\"\n",
    "在 SymPy 中，数学符号是 Symbol 类的对象，因此必须先创建之后才能使用\n",
    "\"\"\"\n",
    "x=sympy.Symbol(\"x\")\n",
    "\n",
    "# 可以使用 symbols 函数一次性创建多个符号\n",
    "x1,y,r = sympy.symbols(\"x1,y,r\")"
   ],
   "metadata": {
    "collapsed": false,
    "pycharm": {
     "name": "#%%\n"
    }
   }
  },
  {
   "cell_type": "code",
   "execution_count": null,
   "outputs": [],
   "source": [
    "\"\"\"\n",
    "用 subs 进行算式替换\n",
    "\n",
    "subs 函数可以将算式中的符号进行替换，它有 3 中调用方式：\n",
    "\n",
    "- expression.subs(x,y)：将算式中的 x 替换成 y\n",
    "- expression.subs({x:y,u:v})：使用字典进行多次替换\n",
    "- expression.subs([(x,y),(u,v)])：使用列表进行多次替换\n",
    "\n",
    "注意：多次替换是顺序进行的\n",
    "\"\"\""
   ],
   "metadata": {
    "collapsed": false,
    "pycharm": {
     "name": "#%%\n"
    }
   }
  }
 ],
 "metadata": {
  "kernelspec": {
   "display_name": "Python 3",
   "language": "python",
   "name": "python3"
  },
  "language_info": {
   "codemirror_mode": {
    "name": "ipython",
    "version": 2
   },
   "file_extension": ".py",
   "mimetype": "text/x-python",
   "name": "python",
   "nbconvert_exporter": "python",
   "pygments_lexer": "ipython2",
   "version": "2.7.6"
  }
 },
 "nbformat": 4,
 "nbformat_minor": 0
}