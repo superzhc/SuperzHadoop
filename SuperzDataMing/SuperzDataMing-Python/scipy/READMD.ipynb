{
 "cells": [
  {
   "cell_type": "markdown",
   "metadata": {
    "collapsed": true,
    "pycharm": {
     "name": "#%% md\n"
    }
   },
   "source": [
    "# SciPy\n",
    "\n",
    "SciPy 函数库在 NumPy 库的基础上添加了众多的数学、科学一级工程计算中常用的函数库。例如线性代数、常微分方程、信号处理、图像处理、稀疏矩阵等等。"
   ]
  }
 ],
 "metadata": {
  "kernelspec": {
   "display_name": "Python 3",
   "language": "python",
   "name": "python3"
  },
  "language_info": {
   "codemirror_mode": {
    "name": "ipython",
    "version": 2
   },
   "file_extension": ".py",
   "mimetype": "text/x-python",
   "name": "python",
   "nbconvert_exporter": "python",
   "pygments_lexer": "ipython2",
   "version": "2.7.6"
  }
 },
 "nbformat": 4,
 "nbformat_minor": 0
}