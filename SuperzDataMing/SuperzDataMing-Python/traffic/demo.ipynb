{
 "cells": [
  {
   "cell_type": "code",
   "execution_count": 1,
   "metadata": {
    "collapsed": true
   },
   "outputs": [],
   "source": [
    "import pandas as pd"
   ]
  },
  {
   "cell_type": "code",
   "execution_count": 4,
   "outputs": [
    {
     "name": "stderr",
     "output_type": "stream",
     "text": [
      "d:\\soft\\python\\lib\\site-packages\\openpyxl\\styles\\stylesheet.py:221: UserWarning: Workbook contains no default style, apply openpyxl's default\n",
      "  warn(\"Workbook contains no default style, apply openpyxl's default\")\n"
     ]
    },
    {
     "data": {
      "text/plain": "                               事件ID                   时间  设备类型  策略ID  设备ID  \\\n0  497f366549214f289916e46e365490f5  2021-06-30 18:06:28   NaN   NaN   NaN   \n1  c40193ca244945e59649f078faddbe8e  2021-06-30 10:58:01   NaN   NaN   NaN   \n2  c40193ca244945e59649f078faddbe8e  2021-06-30 10:48:01   NaN   NaN   NaN   \n3  e46c2a9aa2e94ac6ba52eb9820846284  2021-06-29 18:14:16   NaN   NaN   NaN   \n\n                   场景ID        场景类型   区域ID          经度         纬度  \\\n0  34bdf39fb1745c45c2ab  Congestion  52305  119.955777  32.184621   \n1  34bdf39fb1745c45c2ab  Congestion  52305  119.955777  32.184621   \n2  34bdf39fb1745c45c2ab  Congestion  52305  119.955777  32.184621   \n3  34bdf39fb1745c45c2ab  Congestion  52305  119.955777  32.184621   \n\n          策略条件 条件符号  条件值  排队长度          结束时间        开始经度       开始纬度  \\\n0  queueLength    >  100   107           NaN  119.955570  32.184830   \n1  queueLength    >  100   101  1.524243e+09  119.955312  32.185090   \n2  queueLength    >  100   115           NaN  119.955615  32.184784   \n3  queueLength    >  100   108  1.464019e+09  119.955562  32.184838   \n\n         结束经度       结束纬度  \n0  119.955041  32.185364  \n1  119.954824  32.185582  \n2  119.955028  32.185376  \n3  119.955026  32.185379  ",
      "text/html": "<div>\n<style scoped>\n    .dataframe tbody tr th:only-of-type {\n        vertical-align: middle;\n    }\n\n    .dataframe tbody tr th {\n        vertical-align: top;\n    }\n\n    .dataframe thead th {\n        text-align: right;\n    }\n</style>\n<table border=\"1\" class=\"dataframe\">\n  <thead>\n    <tr style=\"text-align: right;\">\n      <th></th>\n      <th>事件ID</th>\n      <th>时间</th>\n      <th>设备类型</th>\n      <th>策略ID</th>\n      <th>设备ID</th>\n      <th>场景ID</th>\n      <th>场景类型</th>\n      <th>区域ID</th>\n      <th>经度</th>\n      <th>纬度</th>\n      <th>策略条件</th>\n      <th>条件符号</th>\n      <th>条件值</th>\n      <th>排队长度</th>\n      <th>结束时间</th>\n      <th>开始经度</th>\n      <th>开始纬度</th>\n      <th>结束经度</th>\n      <th>结束纬度</th>\n    </tr>\n  </thead>\n  <tbody>\n    <tr>\n      <th>0</th>\n      <td>497f366549214f289916e46e365490f5</td>\n      <td>2021-06-30 18:06:28</td>\n      <td>NaN</td>\n      <td>NaN</td>\n      <td>NaN</td>\n      <td>34bdf39fb1745c45c2ab</td>\n      <td>Congestion</td>\n      <td>52305</td>\n      <td>119.955777</td>\n      <td>32.184621</td>\n      <td>queueLength</td>\n      <td>&gt;</td>\n      <td>100</td>\n      <td>107</td>\n      <td>NaN</td>\n      <td>119.955570</td>\n      <td>32.184830</td>\n      <td>119.955041</td>\n      <td>32.185364</td>\n    </tr>\n    <tr>\n      <th>1</th>\n      <td>c40193ca244945e59649f078faddbe8e</td>\n      <td>2021-06-30 10:58:01</td>\n      <td>NaN</td>\n      <td>NaN</td>\n      <td>NaN</td>\n      <td>34bdf39fb1745c45c2ab</td>\n      <td>Congestion</td>\n      <td>52305</td>\n      <td>119.955777</td>\n      <td>32.184621</td>\n      <td>queueLength</td>\n      <td>&gt;</td>\n      <td>100</td>\n      <td>101</td>\n      <td>1.524243e+09</td>\n      <td>119.955312</td>\n      <td>32.185090</td>\n      <td>119.954824</td>\n      <td>32.185582</td>\n    </tr>\n    <tr>\n      <th>2</th>\n      <td>c40193ca244945e59649f078faddbe8e</td>\n      <td>2021-06-30 10:48:01</td>\n      <td>NaN</td>\n      <td>NaN</td>\n      <td>NaN</td>\n      <td>34bdf39fb1745c45c2ab</td>\n      <td>Congestion</td>\n      <td>52305</td>\n      <td>119.955777</td>\n      <td>32.184621</td>\n      <td>queueLength</td>\n      <td>&gt;</td>\n      <td>100</td>\n      <td>115</td>\n      <td>NaN</td>\n      <td>119.955615</td>\n      <td>32.184784</td>\n      <td>119.955028</td>\n      <td>32.185376</td>\n    </tr>\n    <tr>\n      <th>3</th>\n      <td>e46c2a9aa2e94ac6ba52eb9820846284</td>\n      <td>2021-06-29 18:14:16</td>\n      <td>NaN</td>\n      <td>NaN</td>\n      <td>NaN</td>\n      <td>34bdf39fb1745c45c2ab</td>\n      <td>Congestion</td>\n      <td>52305</td>\n      <td>119.955777</td>\n      <td>32.184621</td>\n      <td>queueLength</td>\n      <td>&gt;</td>\n      <td>100</td>\n      <td>108</td>\n      <td>1.464019e+09</td>\n      <td>119.955562</td>\n      <td>32.184838</td>\n      <td>119.955026</td>\n      <td>32.185379</td>\n    </tr>\n  </tbody>\n</table>\n</div>"
     },
     "execution_count": 4,
     "metadata": {},
     "output_type": "execute_result"
    }
   ],
   "source": [
    "data=pd.read_excel(\"../../data/拥堵预警事件20210630181344.xlsx\")\n",
    "data.head()"
   ],
   "metadata": {
    "collapsed": false,
    "pycharm": {
     "name": "#%%\n"
    }
   }
  }
 ],
 "metadata": {
  "kernelspec": {
   "display_name": "Python 3",
   "language": "python",
   "name": "python3"
  },
  "language_info": {
   "codemirror_mode": {
    "name": "ipython",
    "version": 2
   },
   "file_extension": ".py",
   "mimetype": "text/x-python",
   "name": "python",
   "nbconvert_exporter": "python",
   "pygments_lexer": "ipython2",
   "version": "2.7.6"
  }
 },
 "nbformat": 4,
 "nbformat_minor": 0
}