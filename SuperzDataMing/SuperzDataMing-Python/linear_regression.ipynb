{
 "cells": [
  {
   "cell_type": "markdown",
   "metadata": {
    "collapsed": true,
    "pycharm": {
     "name": "#%% md\n"
    }
   },
   "source": [
    "线性回归"
   ]
  },
  {
   "cell_type": "code",
   "execution_count": 1,
   "outputs": [],
   "source": [
    "import numpy as np\n",
    "import matplotlib.pyplot as plt\n",
    "import mglearn"
   ],
   "metadata": {
    "collapsed": false,
    "pycharm": {
     "name": "#%%\n"
    }
   }
  },
  {
   "cell_type": "code",
   "execution_count": 2,
   "outputs": [
    {
     "name": "stdout",
     "output_type": "stream",
     "text": [
      "w[0]: 0.393906  b: -0.031804\n"
     ]
    },
    {
     "data": {
      "text/plain": "<Figure size 576x576 with 1 Axes>",
      "image/png": "[encoded data removed]"
     },
     "metadata": {
      "needs_background": "light"
     },
     "output_type": "display_data"
    }
   ],
   "source": [
    "#wave数据集的线性回归，数据图像\n",
    "mglearn.plots.plot_linear_regression_wave()"
   ],
   "metadata": {
    "collapsed": false,
    "pycharm": {
     "name": "#%%\n"
    }
   }
  },
  {
   "cell_type": "code",
   "execution_count": 14,
   "outputs": [],
   "source": [
    "\"\"\"\n",
    "测试数据集\n",
    "\"\"\"\n",
    "\n",
    "from sklearn.model_selection import train_test_split\n",
    "X,y=mglearn.datasets.make_wave(n_samples=60)\n",
    "X_train,X_test,y_train,y_test=train_test_split(X,y,random_state=0)"
   ],
   "metadata": {
    "collapsed": false,
    "pycharm": {
     "name": "#%%\n"
    }
   }
  },
  {
   "cell_type": "code",
   "execution_count": 16,
   "outputs": [
    {
     "name": "stdout",
     "output_type": "stream",
     "text": [
      "斜率（w）：[0.44153666]\n",
      "偏移量（b）：-0.01711124414733381\n",
      "训练数据集得分:0.66\n",
      "测试数据集得分:0.69\n"
     ]
    }
   ],
   "source": [
    "from sklearn.linear_model import LinearRegression\n",
    "\n",
    "lr=LinearRegression().fit(X_train,y_train)\n",
    "print(\"斜率（w）：{}\".format(lr.coef_))\n",
    "print(\"偏移量（b）：{}\".format(lr.intercept_))\n",
    "print(\"训练数据集得分:{:.2f}\".format(lr.score(X_train,y_train)))\n",
    "print(\"测试数据集得分:{:.2f}\".format(lr.score(X_test,y_test)))"
   ],
   "metadata": {
    "collapsed": false,
    "pycharm": {
     "name": "#%%\n"
    }
   }
  },
  {
   "cell_type": "code",
   "execution_count": 17,
   "outputs": [
    {
     "name": "stdout",
     "output_type": "stream",
     "text": [
      "训练数据集得分:0.66\n",
      "测试数据集得分:0.70\n"
     ]
    }
   ],
   "source": [
    "\"\"\"\n",
    "岭回归：L2正则化\n",
    "\"\"\"\n",
    "from sklearn.linear_model import Ridge\n",
    "\n",
    "ridge=Ridge().fit(X_train,y_train)\n",
    "print(\"训练数据集得分:{:.2f}\".format(ridge.score(X_train,y_train)))\n",
    "print(\"测试数据集得分:{:.2f}\".format(ridge.score(X_test,y_test)))"
   ],
   "metadata": {
    "collapsed": false,
    "pycharm": {
     "name": "#%%\n"
    }
   }
  },
  {
   "cell_type": "code",
   "execution_count": 19,
   "outputs": [
    {
     "name": "stdout",
     "output_type": "stream",
     "text": [
      "<class 'numpy.ndarray'>\n",
      "训练数据集得分:0.66\n",
      "测试数据集得分:0.71\n"
     ]
    }
   ],
   "source": [
    "\"\"\"\n",
    "简单性和训练集性能通过设置 alpha 参数\n",
    "\"\"\"\n",
    "ridge10=Ridge(alpha=10).fit(X_train,y_train)\n",
    "print(type(ridge10.coef_))\n",
    "print(\"训练数据集得分:{:.2f}\".format(ridge10.score(X_train,y_train)))\n",
    "print(\"测试数据集得分:{:.2f}\".format(ridge10.score(X_test,y_test)))"
   ],
   "metadata": {
    "collapsed": false,
    "pycharm": {
     "name": "#%%\n"
    }
   }
  }
 ],
 "metadata": {
  "kernelspec": {
   "display_name": "Python 3",
   "language": "python",
   "name": "python3"
  },
  "language_info": {
   "codemirror_mode": {
    "name": "ipython",
    "version": 2
   },
   "file_extension": ".py",
   "mimetype": "text/x-python",
   "name": "python",
   "nbconvert_exporter": "python",
   "pygments_lexer": "ipython2",
   "version": "2.7.6"
  }
 },
 "nbformat": 4,
 "nbformat_minor": 0
}