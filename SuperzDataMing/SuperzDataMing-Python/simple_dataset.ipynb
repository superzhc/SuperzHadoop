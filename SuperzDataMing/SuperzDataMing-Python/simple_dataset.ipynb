{
 "cells": [
  {
   "cell_type": "markdown",
   "metadata": {
    "collapsed": true,
    "pycharm": {
     "name": "#%% md\n"
    }
   },
   "source": [
    "一些样本数据"
   ]
  },
  {
   "cell_type": "code",
   "execution_count": 1,
   "outputs": [],
   "source": [
    "import numpy as np\n",
    "import mglearn\n",
    "import matplotlib.pyplot as plt"
   ],
   "metadata": {
    "collapsed": false,
    "pycharm": {
     "name": "#%%\n"
    }
   }
  },
  {
   "cell_type": "code",
   "execution_count": 2,
   "outputs": [
    {
     "name": "stdout",
     "output_type": "stream",
     "text": [
      "X.shape:(26, 2)\n"
     ]
    },
    {
     "name": "stderr",
     "output_type": "stream",
     "text": [
      "d:\\soft\\python\\lib\\site-packages\\sklearn\\utils\\deprecation.py:86: FutureWarning: Function make_blobs is deprecated; Please import make_blobs directly from scikit-learn\n",
      "  warnings.warn(msg, category=FutureWarning)\n"
     ]
    },
    {
     "data": {
      "text/plain": "<Figure size 432x288 with 1 Axes>",
      "image/png": "[encoded data removed]"
     },
     "metadata": {
      "needs_background": "light"
     },
     "output_type": "display_data"
    }
   ],
   "source": [
    "\"\"\"\n",
    "forge 数据集：一个模拟的二分类数据集\n",
    "\"\"\"\n",
    "#生成数据集\n",
    "X,y=mglearn.datasets.make_forge()\n",
    "#数据集绘图\n",
    "mglearn.discrete_scatter(X[:,0],X[:,1],y)\n",
    "plt.legend([\"分类0\",\"分类1\"],loc=4)\n",
    "plt.xlabel(\"特征1\")\n",
    "plt.ylabel(\"特征2\")\n",
    "print(\"X.shape:{}\".format(X.shape))"
   ],
   "metadata": {
    "collapsed": false,
    "pycharm": {
     "name": "#%%\n"
    }
   }
  },
  {
   "cell_type": "code",
   "execution_count": 4,
   "outputs": [
    {
     "data": {
      "text/plain": "Text(0, 0.5, '目标')"
     },
     "execution_count": 4,
     "metadata": {},
     "output_type": "execute_result"
    },
    {
     "data": {
      "text/plain": "<Figure size 432x288 with 1 Axes>",
      "image/png": "[encoded data removed]"
     },
     "metadata": {
      "needs_background": "light"
     },
     "output_type": "display_data"
    }
   ],
   "source": [
    "\"\"\"\n",
    "wave 数据集：只有一个输入特征和一个连续的目标变量\n",
    "\"\"\"\n",
    "X2,y2=mglearn.datasets.make_wave(n_samples=40)\n",
    "plt.plot(X2,y2,\"o\")\n",
    "plt.ylim(-3,3)\n",
    "plt.xlabel(\"特征\")\n",
    "plt.ylabel(\"目标\")"
   ],
   "metadata": {
    "collapsed": false,
    "pycharm": {
     "name": "#%%\n"
    }
   }
  },
  {
   "cell_type": "code",
   "execution_count": 5,
   "outputs": [
    {
     "name": "stdout",
     "output_type": "stream",
     "text": [
      "cancer.keys():\n",
      "dict_keys(['data', 'target', 'frame', 'target_names', 'DESCR', 'feature_names', 'filename'])\n",
      "数据的条数：569\n",
      "每条数据的特征数：30\n",
      "Sample counts per class:\n",
      "{'malignant': 212, 'benign': 357}\n",
      "特征列表：\n",
      "['mean radius' 'mean texture' 'mean perimeter' 'mean area'\n",
      " 'mean smoothness' 'mean compactness' 'mean concavity'\n",
      " 'mean concave points' 'mean symmetry' 'mean fractal dimension'\n",
      " 'radius error' 'texture error' 'perimeter error' 'area error'\n",
      " 'smoothness error' 'compactness error' 'concavity error'\n",
      " 'concave points error' 'symmetry error' 'fractal dimension error'\n",
      " 'worst radius' 'worst texture' 'worst perimeter' 'worst area'\n",
      " 'worst smoothness' 'worst compactness' 'worst concavity'\n",
      " 'worst concave points' 'worst symmetry' 'worst fractal dimension']\n"
     ]
    }
   ],
   "source": [
    "\"\"\"\n",
    "威斯抗星州乳腺癌数据集\n",
    "--来自scikit-learn\n",
    "\"\"\"\n",
    "from sklearn.datasets import load_breast_cancer\n",
    "cancer=load_breast_cancer()\n",
    "print(\"cancer.keys():\\n{}\".format(cancer.keys()))\n",
    "#输出数据的维度\n",
    "data_shape=cancer.data.shape\n",
    "print(\"数据的条数：{}\\n每条数据的特征数：{}\".format(data_shape[0],data_shape[1]))\n",
    "# 每个种类的样本数\n",
    "print(\"Sample counts per class:\\n{}\".format({n:v for n,v in zip(cancer.target_names,np.bincount(cancer.target))}))\n",
    "# 查看所有特征\n",
    "print(\"特征列表：\\n{}\".format(cancer.feature_names))"
   ],
   "metadata": {
    "collapsed": false,
    "pycharm": {
     "name": "#%%\n"
    }
   }
  },
  {
   "cell_type": "code",
   "execution_count": 6,
   "outputs": [
    {
     "name": "stdout",
     "output_type": "stream",
     "text": [
      "Data Shape:(506, 13)\n"
     ]
    }
   ],
   "source": [
    "\"\"\"\n",
    "波士顿房价数据集\n",
    "\"\"\"\n",
    "from sklearn.datasets import load_boston\n",
    "boston=load_boston()\n",
    "print(\"Data Shape:{}\".format(boston.data.shape))\n"
   ],
   "metadata": {
    "collapsed": false,
    "pycharm": {
     "name": "#%%\n"
    }
   }
  }
 ],
 "metadata": {
  "kernelspec": {
   "display_name": "Python 3",
   "language": "python",
   "name": "python3"
  },
  "language_info": {
   "codemirror_mode": {
    "name": "ipython",
    "version": 2
   },
   "file_extension": ".py",
   "mimetype": "text/x-python",
   "name": "python",
   "nbconvert_exporter": "python",
   "pygments_lexer": "ipython2",
   "version": "2.7.6"
  }
 },
 "nbformat": 4,
 "nbformat_minor": 0
}